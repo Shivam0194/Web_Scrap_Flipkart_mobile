{
  "nbformat": 4,
  "nbformat_minor": 0,
  "metadata": {
    "colab": {
      "name": "Flipkart_Moblie_WebScrapping.ipynb",
      "provenance": [],
      "collapsed_sections": []
    },
    "kernelspec": {
      "name": "python3",
      "display_name": "Python 3"
    },
    "language_info": {
      "name": "python"
    }
  },
  "cells": [
    {
      "cell_type": "code",
      "execution_count": 66,
      "metadata": {
        "id": "yuSZzeZhevLC"
      },
      "outputs": [],
      "source": [
        "!pip install requests --quiet\n",
        "!pip install beautifulsoup4 --upgrade --quiet"
      ]
    },
    {
      "cell_type": "code",
      "source": [
        "import requests\n",
        "from bs4 import BeautifulSoup"
      ],
      "metadata": {
        "id": "u-vckh6kfrvG"
      },
      "execution_count": 5,
      "outputs": []
    },
    {
      "cell_type": "code",
      "source": [
        "ur='https://www.flipkart.com/search?q=mobile&otracker=search&otracker1=search&marketplace=FLIPKART&as-show=off&as=off&page='"
      ],
      "metadata": {
        "id": "uieKLipzlabE"
      },
      "execution_count": 3,
      "outputs": []
    },
    {
      "cell_type": "code",
      "source": [
        "mobile_name=[]\n",
        "mprice=[]\n",
        "mrating=[]\n",
        "speci=[]\n",
        "for i in range(1,101):\n",
        "  url=ur+str(i)\n",
        "  response=requests.get(url)\n",
        "  content=BeautifulSoup(response.content,'html.parser')\n",
        "  name=content.find_all('div',{'class':'_4rR01T'})\n",
        "  price=content.find_all('div',{'class':'_30jeq3 _1_WHN1'})\n",
        "  rating=content.find_all('div',{'class':'_3LWZlK'})\n",
        "  spec=content.find_all('ul',{'class':'_1xgFaf'})\n",
        "  \n",
        "\n",
        "  for i in name:\n",
        "    mobile_name.append(i.text)\n",
        "  for i in price:\n",
        "    mprice.append(i.text)\n",
        "  for i in rating:\n",
        "    mrating.append(i.text)\n",
        "  for i in spec:\n",
        "    speci.append(i.text)\n",
        " \n",
        "\n",
        "  "
      ],
      "metadata": {
        "id": "m4rbrqUClqWh"
      },
      "execution_count": 41,
      "outputs": []
    },
    {
      "cell_type": "code",
      "source": [
        "mobile_dict={\n",
        "    'Mobile Name':mobile_name,\n",
        "    'Price':mprice,\n",
        "    'Specification':speci\n",
        "}"
      ],
      "metadata": {
        "id": "Y3SeDzaEq4gk"
      },
      "execution_count": 43,
      "outputs": []
    },
    {
      "cell_type": "code",
      "source": [
        "import pandas as pd\n"
      ],
      "metadata": {
        "id": "349HzGP2tHoD"
      },
      "execution_count": 44,
      "outputs": []
    },
    {
      "cell_type": "code",
      "source": [
        "df=pd.DataFrame(mobile_dict)"
      ],
      "metadata": {
        "id": "W56Lf0Bgs_qr"
      },
      "execution_count": 45,
      "outputs": []
    },
    {
      "cell_type": "code",
      "source": [
        "df"
      ],
      "metadata": {
        "colab": {
          "base_uri": "https://localhost:8080/",
          "height": 424
        },
        "id": "oFdpIIHjtKEh",
        "outputId": "98788f92-388f-488a-b4c8-11a8968f4e3c"
      },
      "execution_count": 46,
      "outputs": [
        {
          "output_type": "execute_result",
          "data": {
            "text/plain": [
              "                                        Mobile Name    Price  \\\n",
              "0                                         Nuvo NF24     ₹899   \n",
              "1                                        Nuvo FLASH     ₹899   \n",
              "2                      POCO C31 (Royal Blue, 64 GB)   ₹7,999   \n",
              "3                     POCO C31 (Shadow Gray, 64 GB)   ₹7,999   \n",
              "4                      POCO C31 (Royal Blue, 32 GB)   ₹6,999   \n",
              "..                                              ...      ...   \n",
              "931          Infinix Hot 10 (Moonlight Jade, 64 GB)  ₹11,999   \n",
              "932   SAMSUNG Galaxy A70s (Prism Crush Red, 128 GB)  ₹30,500   \n",
              "933                                  Good One Magic   ₹1,499   \n",
              "934                                  Itel Power 110   ₹1,269   \n",
              "935  REDMI Note 10 Pro Max (Vintage Bronze, 128 GB)  ₹17,884   \n",
              "\n",
              "                                         Specification  \n",
              "0    32 MB RAM | 32 MB ROM6.1 cm (2.4 inch) Display...  \n",
              "1    32 MB RAM | 32 MB ROM | Expandable Upto 16 GB6...  \n",
              "2    4 GB RAM | 64 GB ROM | Expandable Upto 512 GB1...  \n",
              "3    4 GB RAM | 64 GB ROM | Expandable Upto 512 GB1...  \n",
              "4    3 GB RAM | 32 GB ROM | Expandable Upto 512 GB1...  \n",
              "..                                                 ...  \n",
              "931  4 GB RAM | 64 GB ROM | Expandable Upto 256 GB1...  \n",
              "932  8 GB RAM | 128 GB ROM | Expandable Upto 512 GB...  \n",
              "933  32 MB RAM | 32 MB ROM4.32 cm (1.7 inch) Displa...  \n",
              "934  4 MB RAM | 4 MB ROM | Expandable Upto 32 GB4.5...  \n",
              "935  6 GB RAM | 128 GB ROM | Expandable Upto 512 GB...  \n",
              "\n",
              "[936 rows x 3 columns]"
            ],
            "text/html": [
              "\n",
              "  <div id=\"df-78c94754-39be-4a40-b828-d6ddd324db1e\">\n",
              "    <div class=\"colab-df-container\">\n",
              "      <div>\n",
              "<style scoped>\n",
              "    .dataframe tbody tr th:only-of-type {\n",
              "        vertical-align: middle;\n",
              "    }\n",
              "\n",
              "    .dataframe tbody tr th {\n",
              "        vertical-align: top;\n",
              "    }\n",
              "\n",
              "    .dataframe thead th {\n",
              "        text-align: right;\n",
              "    }\n",
              "</style>\n",
              "<table border=\"1\" class=\"dataframe\">\n",
              "  <thead>\n",
              "    <tr style=\"text-align: right;\">\n",
              "      <th></th>\n",
              "      <th>Mobile Name</th>\n",
              "      <th>Price</th>\n",
              "      <th>Specification</th>\n",
              "    </tr>\n",
              "  </thead>\n",
              "  <tbody>\n",
              "    <tr>\n",
              "      <th>0</th>\n",
              "      <td>Nuvo NF24</td>\n",
              "      <td>₹899</td>\n",
              "      <td>32 MB RAM | 32 MB ROM6.1 cm (2.4 inch) Display...</td>\n",
              "    </tr>\n",
              "    <tr>\n",
              "      <th>1</th>\n",
              "      <td>Nuvo FLASH</td>\n",
              "      <td>₹899</td>\n",
              "      <td>32 MB RAM | 32 MB ROM | Expandable Upto 16 GB6...</td>\n",
              "    </tr>\n",
              "    <tr>\n",
              "      <th>2</th>\n",
              "      <td>POCO C31 (Royal Blue, 64 GB)</td>\n",
              "      <td>₹7,999</td>\n",
              "      <td>4 GB RAM | 64 GB ROM | Expandable Upto 512 GB1...</td>\n",
              "    </tr>\n",
              "    <tr>\n",
              "      <th>3</th>\n",
              "      <td>POCO C31 (Shadow Gray, 64 GB)</td>\n",
              "      <td>₹7,999</td>\n",
              "      <td>4 GB RAM | 64 GB ROM | Expandable Upto 512 GB1...</td>\n",
              "    </tr>\n",
              "    <tr>\n",
              "      <th>4</th>\n",
              "      <td>POCO C31 (Royal Blue, 32 GB)</td>\n",
              "      <td>₹6,999</td>\n",
              "      <td>3 GB RAM | 32 GB ROM | Expandable Upto 512 GB1...</td>\n",
              "    </tr>\n",
              "    <tr>\n",
              "      <th>...</th>\n",
              "      <td>...</td>\n",
              "      <td>...</td>\n",
              "      <td>...</td>\n",
              "    </tr>\n",
              "    <tr>\n",
              "      <th>931</th>\n",
              "      <td>Infinix Hot 10 (Moonlight Jade, 64 GB)</td>\n",
              "      <td>₹11,999</td>\n",
              "      <td>4 GB RAM | 64 GB ROM | Expandable Upto 256 GB1...</td>\n",
              "    </tr>\n",
              "    <tr>\n",
              "      <th>932</th>\n",
              "      <td>SAMSUNG Galaxy A70s (Prism Crush Red, 128 GB)</td>\n",
              "      <td>₹30,500</td>\n",
              "      <td>8 GB RAM | 128 GB ROM | Expandable Upto 512 GB...</td>\n",
              "    </tr>\n",
              "    <tr>\n",
              "      <th>933</th>\n",
              "      <td>Good One Magic</td>\n",
              "      <td>₹1,499</td>\n",
              "      <td>32 MB RAM | 32 MB ROM4.32 cm (1.7 inch) Displa...</td>\n",
              "    </tr>\n",
              "    <tr>\n",
              "      <th>934</th>\n",
              "      <td>Itel Power 110</td>\n",
              "      <td>₹1,269</td>\n",
              "      <td>4 MB RAM | 4 MB ROM | Expandable Upto 32 GB4.5...</td>\n",
              "    </tr>\n",
              "    <tr>\n",
              "      <th>935</th>\n",
              "      <td>REDMI Note 10 Pro Max (Vintage Bronze, 128 GB)</td>\n",
              "      <td>₹17,884</td>\n",
              "      <td>6 GB RAM | 128 GB ROM | Expandable Upto 512 GB...</td>\n",
              "    </tr>\n",
              "  </tbody>\n",
              "</table>\n",
              "<p>936 rows × 3 columns</p>\n",
              "</div>\n",
              "      <button class=\"colab-df-convert\" onclick=\"convertToInteractive('df-78c94754-39be-4a40-b828-d6ddd324db1e')\"\n",
              "              title=\"Convert this dataframe to an interactive table.\"\n",
              "              style=\"display:none;\">\n",
              "        \n",
              "  <svg xmlns=\"http://www.w3.org/2000/svg\" height=\"24px\"viewBox=\"0 0 24 24\"\n",
              "       width=\"24px\">\n",
              "    <path d=\"M0 0h24v24H0V0z\" fill=\"none\"/>\n",
              "    <path d=\"M18.56 5.44l.94 2.06.94-2.06 2.06-.94-2.06-.94-.94-2.06-.94 2.06-2.06.94zm-11 1L8.5 8.5l.94-2.06 2.06-.94-2.06-.94L8.5 2.5l-.94 2.06-2.06.94zm10 10l.94 2.06.94-2.06 2.06-.94-2.06-.94-.94-2.06-.94 2.06-2.06.94z\"/><path d=\"M17.41 7.96l-1.37-1.37c-.4-.4-.92-.59-1.43-.59-.52 0-1.04.2-1.43.59L10.3 9.45l-7.72 7.72c-.78.78-.78 2.05 0 2.83L4 21.41c.39.39.9.59 1.41.59.51 0 1.02-.2 1.41-.59l7.78-7.78 2.81-2.81c.8-.78.8-2.07 0-2.86zM5.41 20L4 18.59l7.72-7.72 1.47 1.35L5.41 20z\"/>\n",
              "  </svg>\n",
              "      </button>\n",
              "      \n",
              "  <style>\n",
              "    .colab-df-container {\n",
              "      display:flex;\n",
              "      flex-wrap:wrap;\n",
              "      gap: 12px;\n",
              "    }\n",
              "\n",
              "    .colab-df-convert {\n",
              "      background-color: #E8F0FE;\n",
              "      border: none;\n",
              "      border-radius: 50%;\n",
              "      cursor: pointer;\n",
              "      display: none;\n",
              "      fill: #1967D2;\n",
              "      height: 32px;\n",
              "      padding: 0 0 0 0;\n",
              "      width: 32px;\n",
              "    }\n",
              "\n",
              "    .colab-df-convert:hover {\n",
              "      background-color: #E2EBFA;\n",
              "      box-shadow: 0px 1px 2px rgba(60, 64, 67, 0.3), 0px 1px 3px 1px rgba(60, 64, 67, 0.15);\n",
              "      fill: #174EA6;\n",
              "    }\n",
              "\n",
              "    [theme=dark] .colab-df-convert {\n",
              "      background-color: #3B4455;\n",
              "      fill: #D2E3FC;\n",
              "    }\n",
              "\n",
              "    [theme=dark] .colab-df-convert:hover {\n",
              "      background-color: #434B5C;\n",
              "      box-shadow: 0px 1px 3px 1px rgba(0, 0, 0, 0.15);\n",
              "      filter: drop-shadow(0px 1px 2px rgba(0, 0, 0, 0.3));\n",
              "      fill: #FFFFFF;\n",
              "    }\n",
              "  </style>\n",
              "\n",
              "      <script>\n",
              "        const buttonEl =\n",
              "          document.querySelector('#df-78c94754-39be-4a40-b828-d6ddd324db1e button.colab-df-convert');\n",
              "        buttonEl.style.display =\n",
              "          google.colab.kernel.accessAllowed ? 'block' : 'none';\n",
              "\n",
              "        async function convertToInteractive(key) {\n",
              "          const element = document.querySelector('#df-78c94754-39be-4a40-b828-d6ddd324db1e');\n",
              "          const dataTable =\n",
              "            await google.colab.kernel.invokeFunction('convertToInteractive',\n",
              "                                                     [key], {});\n",
              "          if (!dataTable) return;\n",
              "\n",
              "          const docLinkHtml = 'Like what you see? Visit the ' +\n",
              "            '<a target=\"_blank\" href=https://colab.research.google.com/notebooks/data_table.ipynb>data table notebook</a>'\n",
              "            + ' to learn more about interactive tables.';\n",
              "          element.innerHTML = '';\n",
              "          dataTable['output_type'] = 'display_data';\n",
              "          await google.colab.output.renderOutput(dataTable, element);\n",
              "          const docLink = document.createElement('div');\n",
              "          docLink.innerHTML = docLinkHtml;\n",
              "          element.appendChild(docLink);\n",
              "        }\n",
              "      </script>\n",
              "    </div>\n",
              "  </div>\n",
              "  "
            ]
          },
          "metadata": {},
          "execution_count": 46
        }
      ]
    },
    {
      "cell_type": "code",
      "source": [
        "df.to_csv('Mobile.csv',index=None)"
      ],
      "metadata": {
        "id": "pzR_9YxW-plK"
      },
      "execution_count": 47,
      "outputs": []
    },
    {
      "cell_type": "code",
      "source": [
        ""
      ],
      "metadata": {
        "id": "NvCzRx0JGpUr"
      },
      "execution_count": null,
      "outputs": []
    }
  ]
}